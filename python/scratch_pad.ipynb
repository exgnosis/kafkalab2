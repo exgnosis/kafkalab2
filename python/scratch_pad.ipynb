{
 "cells": [
  {
   "cell_type": "code",
   "execution_count": null,
   "metadata": {},
   "outputs": [],
   "source": [
    "# scratch pad"
   ]
  },
  {
   "cell_type": "code",
   "execution_count": 13,
   "metadata": {},
   "outputs": [],
   "source": [
    "\n",
    "\n",
    "import random\n",
    "def get_random_ip_address():\n",
    "    a = random.randint(1,3)\n",
    "    b = random.randint(1,3)\n",
    "    c = random.randint (0, 10)\n",
    "    d = random.randint (0, 10)\n",
    "    return '{}.{}.{}.{}'.format(a,b,c,d)"
   ]
  },
  {
   "cell_type": "code",
   "execution_count": 15,
   "metadata": {},
   "outputs": [
    {
     "name": "stdout",
     "output_type": "stream",
     "text": [
      "1.2.7.6\n",
      "2.2.0.7\n",
      "2.3.9.10\n",
      "1.2.3.7\n",
      "1.2.8.2\n",
      "1.3.2.10\n",
      "1.1.0.4\n",
      "3.2.9.7\n",
      "2.2.5.1\n",
      "3.1.10.7\n",
      "2.2.10.5\n",
      "2.1.8.7\n",
      "1.3.8.7\n",
      "3.1.6.10\n",
      "3.1.10.2\n",
      "2.1.6.7\n",
      "1.1.6.0\n",
      "2.1.9.2\n",
      "1.2.5.4\n",
      "1.2.4.3\n"
     ]
    }
   ],
   "source": [
    "for i in range(0,20):\n",
    "    print (get_random_ip_address())"
   ]
  },
  {
   "cell_type": "code",
   "execution_count": 45,
   "metadata": {},
   "outputs": [],
   "source": [
    "import random\n",
    "import time\n",
    "import json\n",
    "\n",
    "def get_clickstream_record():\n",
    "    time_now_ms = time.time_ns() // 1_000_000\n",
    "    ip = get_random_ip_address()\n",
    "    user = 'user-{}'.format(random.randint(1,100))\n",
    "    action = random.choice (['clicked', 'viewed', 'blocked'])\n",
    "    domain = random.choice(['facebook.com', 'youtube.com', 'twitter.com', 'linkedin.com', 'gmail.com'])\n",
    "    campaign = \"campaign-{}\".format(random.randint(1,100))\n",
    "    cost = random.randint(1,100)\n",
    "    return {\n",
    "        'timestamp' : time_now_ms,\n",
    "        'ip' : ip,\n",
    "        'user' : user,\n",
    "        'action' : action,\n",
    "        'domain' : domain,\n",
    "        'campaign' : campaign,\n",
    "        'cost' : cost\n",
    "    }\n",
    "\n",
    "def get_clickstream_record_csv():\n",
    "    clickstream = get_clickstream_record()\n",
    "    return '{},{},{},{},{},{},{}'.format(clickstream['timestamp'], clickstream['ip'], clickstream['user'], \n",
    "                                         clickstream['action'], clickstream['domain'],clickstream['campaign'],\n",
    "                                         clickstream['cost'])\n",
    "    \n",
    "def get_clickstream_record_json():\n",
    "    clickstream = get_clickstream_record()\n",
    "    return json.dumps(clickstream)"
   ]
  },
  {
   "cell_type": "code",
   "execution_count": 46,
   "metadata": {},
   "outputs": [
    {
     "name": "stdout",
     "output_type": "stream",
     "text": [
      "1642711774795,1.3.5.10,user-14,clicked,linkedin.com,campaign-76,18\n",
      "linkedin.com\n",
      "{\"timestamp\": 1642711774796, \"ip\": \"1.1.2.5\", \"user\": \"user-67\", \"action\": \"clicked\", \"domain\": \"twitter.com\", \"campaign\": \"campaign-2\", \"cost\": 74}\n",
      "\n",
      "1642711774796,2.1.6.4,user-93,viewed,facebook.com,campaign-30,68\n",
      "facebook.com\n",
      "{\"timestamp\": 1642711774796, \"ip\": \"3.2.8.8\", \"user\": \"user-70\", \"action\": \"viewed\", \"domain\": \"linkedin.com\", \"campaign\": \"campaign-2\", \"cost\": 10}\n",
      "\n",
      "1642711774797,3.3.3.4,user-82,clicked,gmail.com,campaign-100,74\n",
      "gmail.com\n",
      "{\"timestamp\": 1642711774797, \"ip\": \"2.1.5.3\", \"user\": \"user-59\", \"action\": \"blocked\", \"domain\": \"youtube.com\", \"campaign\": \"campaign-30\", \"cost\": 60}\n",
      "\n",
      "1642711774797,1.2.3.0,user-97,viewed,linkedin.com,campaign-39,26\n",
      "linkedin.com\n",
      "{\"timestamp\": 1642711774798, \"ip\": \"1.2.10.5\", \"user\": \"user-47\", \"action\": \"clicked\", \"domain\": \"twitter.com\", \"campaign\": \"campaign-93\", \"cost\": 87}\n",
      "\n",
      "1642711774798,3.1.9.5,user-55,blocked,gmail.com,campaign-5,2\n",
      "gmail.com\n",
      "{\"timestamp\": 1642711774798, \"ip\": \"3.3.2.5\", \"user\": \"user-73\", \"action\": \"clicked\", \"domain\": \"youtube.com\", \"campaign\": \"campaign-83\", \"cost\": 48}\n",
      "\n",
      "1642711774798,2.3.6.6,user-3,clicked,youtube.com,campaign-51,23\n",
      "youtube.com\n",
      "{\"timestamp\": 1642711774799, \"ip\": \"2.2.0.7\", \"user\": \"user-29\", \"action\": \"viewed\", \"domain\": \"youtube.com\", \"campaign\": \"campaign-72\", \"cost\": 39}\n",
      "\n",
      "1642711774799,3.2.6.3,user-41,viewed,facebook.com,campaign-67,43\n",
      "facebook.com\n",
      "{\"timestamp\": 1642711774799, \"ip\": \"3.3.3.2\", \"user\": \"user-16\", \"action\": \"viewed\", \"domain\": \"facebook.com\", \"campaign\": \"campaign-59\", \"cost\": 69}\n",
      "\n",
      "1642711774800,1.1.7.0,user-65,blocked,youtube.com,campaign-8,87\n",
      "youtube.com\n",
      "{\"timestamp\": 1642711774800, \"ip\": \"2.2.3.9\", \"user\": \"user-8\", \"action\": \"clicked\", \"domain\": \"youtube.com\", \"campaign\": \"campaign-11\", \"cost\": 65}\n",
      "\n",
      "1642711774800,3.3.2.2,user-85,viewed,facebook.com,campaign-16,13\n",
      "facebook.com\n",
      "{\"timestamp\": 1642711774800, \"ip\": \"3.2.0.2\", \"user\": \"user-40\", \"action\": \"clicked\", \"domain\": \"youtube.com\", \"campaign\": \"campaign-73\", \"cost\": 23}\n",
      "\n",
      "1642711774801,1.2.3.3,user-68,blocked,linkedin.com,campaign-27,56\n",
      "linkedin.com\n",
      "{\"timestamp\": 1642711774801, \"ip\": \"1.2.1.9\", \"user\": \"user-81\", \"action\": \"clicked\", \"domain\": \"twitter.com\", \"campaign\": \"campaign-60\", \"cost\": 14}\n",
      "\n",
      "1642711774801,2.1.5.6,user-47,viewed,linkedin.com,campaign-5,19\n",
      "linkedin.com\n",
      "{\"timestamp\": 1642711774801, \"ip\": \"3.2.0.10\", \"user\": \"user-61\", \"action\": \"viewed\", \"domain\": \"linkedin.com\", \"campaign\": \"campaign-36\", \"cost\": 15}\n",
      "\n",
      "1642711774802,1.1.5.0,user-28,viewed,facebook.com,campaign-79,65\n",
      "facebook.com\n",
      "{\"timestamp\": 1642711774802, \"ip\": \"3.3.6.3\", \"user\": \"user-67\", \"action\": \"clicked\", \"domain\": \"linkedin.com\", \"campaign\": \"campaign-52\", \"cost\": 55}\n",
      "\n",
      "1642711774802,3.3.10.6,user-91,viewed,facebook.com,campaign-68,38\n",
      "facebook.com\n",
      "{\"timestamp\": 1642711774803, \"ip\": \"1.2.0.5\", \"user\": \"user-81\", \"action\": \"viewed\", \"domain\": \"linkedin.com\", \"campaign\": \"campaign-55\", \"cost\": 91}\n",
      "\n",
      "1642711774803,1.2.4.6,user-52,viewed,facebook.com,campaign-16,20\n",
      "facebook.com\n",
      "{\"timestamp\": 1642711774803, \"ip\": \"2.1.6.7\", \"user\": \"user-83\", \"action\": \"blocked\", \"domain\": \"twitter.com\", \"campaign\": \"campaign-17\", \"cost\": 12}\n",
      "\n",
      "1642711774804,2.1.0.8,user-14,blocked,linkedin.com,campaign-94,25\n",
      "linkedin.com\n",
      "{\"timestamp\": 1642711774804, \"ip\": \"2.2.3.10\", \"user\": \"user-52\", \"action\": \"clicked\", \"domain\": \"twitter.com\", \"campaign\": \"campaign-72\", \"cost\": 37}\n",
      "\n",
      "1642711774804,3.3.8.2,user-6,blocked,gmail.com,campaign-66,96\n",
      "gmail.com\n",
      "{\"timestamp\": 1642711774805, \"ip\": \"2.2.0.2\", \"user\": \"user-64\", \"action\": \"blocked\", \"domain\": \"twitter.com\", \"campaign\": \"campaign-21\", \"cost\": 82}\n",
      "\n",
      "1642711774805,3.1.1.9,user-34,clicked,twitter.com,campaign-7,23\n",
      "twitter.com\n",
      "{\"timestamp\": 1642711774805, \"ip\": \"3.3.3.3\", \"user\": \"user-92\", \"action\": \"blocked\", \"domain\": \"gmail.com\", \"campaign\": \"campaign-39\", \"cost\": 34}\n",
      "\n",
      "1642711774805,1.1.4.6,user-45,viewed,linkedin.com,campaign-83,22\n",
      "linkedin.com\n",
      "{\"timestamp\": 1642711774805, \"ip\": \"1.3.9.1\", \"user\": \"user-18\", \"action\": \"clicked\", \"domain\": \"youtube.com\", \"campaign\": \"campaign-36\", \"cost\": 78}\n",
      "\n",
      "1642711774806,3.3.6.4,user-12,clicked,youtube.com,campaign-71,98\n",
      "youtube.com\n",
      "{\"timestamp\": 1642711774806, \"ip\": \"2.3.8.8\", \"user\": \"user-41\", \"action\": \"blocked\", \"domain\": \"twitter.com\", \"campaign\": \"campaign-91\", \"cost\": 82}\n",
      "\n",
      "1642711774806,1.2.0.6,user-22,blocked,linkedin.com,campaign-7,95\n",
      "linkedin.com\n",
      "{\"timestamp\": 1642711774807, \"ip\": \"2.3.0.6\", \"user\": \"user-26\", \"action\": \"viewed\", \"domain\": \"linkedin.com\", \"campaign\": \"campaign-43\", \"cost\": 12}\n",
      "\n"
     ]
    }
   ],
   "source": [
    "for i in range(0,20):\n",
    "    clickstream_csv = get_clickstream_record_csv()\n",
    "    print (clickstream_csv)\n",
    "    print (clickstream_csv.split(',')[4])\n",
    "    clickstream_json = get_clickstream_record_json()\n",
    "    print(clickstream_json)\n",
    "    print()"
   ]
  },
  {
   "cell_type": "code",
   "execution_count": 48,
   "metadata": {},
   "outputs": [
    {
     "data": {
      "text/plain": [
       "False"
      ]
     },
     "execution_count": 48,
     "metadata": {},
     "output_type": "execute_result"
    }
   ],
   "source": [
    "fraud_ips = (\n",
    "        '1.1',\n",
    "        '2.2'\n",
    ")\n",
    "'1.2' in fraud_ips"
   ]
  },
  {
   "cell_type": "code",
   "execution_count": 49,
   "metadata": {},
   "outputs": [
    {
     "data": {
      "text/plain": [
       "'a/b'"
      ]
     },
     "execution_count": 49,
     "metadata": {},
     "output_type": "execute_result"
    }
   ],
   "source": [
    "'a' + '/' + 'b'"
   ]
  },
  {
   "cell_type": "code",
   "execution_count": null,
   "metadata": {},
   "outputs": [],
   "source": []
  }
 ],
 "metadata": {
  "kernelspec": {
   "display_name": "Python 3",
   "language": "python",
   "name": "python3"
  },
  "language_info": {
   "codemirror_mode": {
    "name": "ipython",
    "version": 3
   },
   "file_extension": ".py",
   "mimetype": "text/x-python",
   "name": "python",
   "nbconvert_exporter": "python",
   "pygments_lexer": "ipython3",
   "version": "3.8.2"
  }
 },
 "nbformat": 4,
 "nbformat_minor": 4
}
